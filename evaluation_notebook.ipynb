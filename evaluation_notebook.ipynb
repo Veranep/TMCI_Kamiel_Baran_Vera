{
 "cells": [
  {
   "cell_type": "markdown",
   "metadata": {},
   "source": [
    "# Evaluation\n",
    "\n",
    "This notebook is dedicated to the evalution of the data. The commonly used Bleu algorithm is used for this, which can be found [here](https://www.aclweb.org/anthology/P02-1040.pdf).\n",
    "\n",
    "## Import\n",
    "Below are all the libraries used for this notebook."
   ]
  },
  {
   "cell_type": "code",
   "execution_count": 93,
   "metadata": {},
   "outputs": [],
   "source": [
    "import numpy as np\n",
    "from nltk.util import ngrams"
   ]
  },
  {
   "cell_type": "markdown",
   "metadata": {},
   "source": [
    "## Algorithm"
   ]
  },
  {
   "cell_type": "code",
   "execution_count": 138,
   "metadata": {},
   "outputs": [],
   "source": [
    "def bleu_text(target_text: list, reference_text: list, n_precision = 4, smoothing = 0):\n",
    "    \"\"\"takes a target_text, and a reference_text, of the same length, as lists within lists, where each inner list is a\n",
    "    tokenized sentence, n_precision, which determines up to which n-gram the bleu value is computed, and a possible\n",
    "    smoothing\"\"\"\n",
    "    temp = np.zeros((n_precision, 2)) #each row is an n(-gram), column 0 is counted matches, column 1 is total n-grams\n",
    "    for i in range(0, len(target_text)):\n",
    "        for j in range(0, n_precision):\n",
    "            count = 0\n",
    "            target = list(ngrams(target_text[i], j+1))\n",
    "            reference = list(ngrams(reference_text[i], j+1))\n",
    "            for x in target:\n",
    "                #to make sure no n-gram is used as a match twice, it is removed from the reference list\n",
    "                if x in reference:\n",
    "                    reference.remove(x)\n",
    "                    count += 1\n",
    "            #if a smoothing is specified, and for a certain n-gram 0 counts were found, it is smoothed over\n",
    "            if smoothing != 0 and count == 0:\n",
    "                count = smoothing\n",
    "            temp[j] += [count, len(target)]\n",
    "    #the amount of matches will be divided by the total amount of n-grams\n",
    "    result = temp[:,0]/temp[:,1]\n",
    "    #the final result will be the geometric mean of the different n-gram results\n",
    "    return result.prod()**(1/len(result))"
   ]
  }
 ],
 "metadata": {
  "kernelspec": {
   "display_name": "Python 3",
   "language": "python",
   "name": "python3"
  },
  "language_info": {
   "codemirror_mode": {
    "name": "ipython",
    "version": 3
   },
   "file_extension": ".py",
   "mimetype": "text/x-python",
   "name": "python",
   "nbconvert_exporter": "python",
   "pygments_lexer": "ipython3",
   "version": "3.7.0"
  }
 },
 "nbformat": 4,
 "nbformat_minor": 2
}
